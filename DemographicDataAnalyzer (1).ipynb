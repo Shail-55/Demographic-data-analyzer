{
  "metadata": {
    "kernelspec": {
      "name": "python",
      "display_name": "Python (Pyodide)",
      "language": "python"
    },
    "language_info": {
      "codemirror_mode": {
        "name": "python",
        "version": 3
      },
      "file_extension": ".py",
      "mimetype": "text/x-python",
      "name": "python",
      "nbconvert_exporter": "python",
      "pygments_lexer": "ipython3",
      "version": "3.8"
    }
  },
  "nbformat_minor": 4,
  "nbformat": 4,
  "cells": [
    {
      "cell_type": "markdown",
      "source": "#Demographic Data Analyzer",
      "metadata": {}
    },
    {
      "cell_type": "code",
      "source": "import pandas as pd\n\ndef calculate_demographic_data(print_data=True):\n    # Read data from file\n    df = pd.read_csv('adult_data.csv')\n    #print(df) \n    # How many of each race are represented in this dataset? This should be a Pandas series with race names as the index labels.\n    race_count = df['race'].value_counts()\n\n    # What is the average age of men?\n    average_age_men = df[df['sex']=='Male']['age'].mean()\n\n    # What is the percentage of people who have a Bachelor's degree?\n    percentage_bachelors = (df['education']=='Bachelors').sum()/len(df) *100\n\n    # What percentage of people with advanced education (`Bachelors`, `Masters`, or `Doctorate`) make more than 50K?\n    # What percentage of people without advanced education make more than 50K?\n\n    # with and without `Bachelors`, `Masters`, or `Doctorate`\n    higher_education = df['education'].isin(['Bachelors','Masters','Doctorate'])\n    lower_education = ~df['education'].isin(['Bachelors','Masters','Doctorate'])\n\n    # percentage with salary >50K\n    higher_education_rich = (df[higher_education]['salary']=='>50K').sum()/len(df[higher_education]) *100\n    lower_education_rich = (df[lower_education]['salary']=='>50K').sum()/len(df[lower_education]) *100\n\n    # What is the minimum number of hours a person works per week (hours-per-week feature)?\n    min_work_hours = df['hours-per-week'].min()\n    \n    \n\n    # What percentage of the people who work the minimum number of hours per week have a salary of >50K?\n    filtered_df  = (df['hours-per-week']==1).sum()\n    num_min_workers = len( df[(df['salary'] == '>50K') & (df['hours-per-week']==1)])\n    rich_percentage = (num_min_workers / filtered_df) * 100\n\n    # What country has the highest percentage of people that earn >50K?\n    highest_earning_country  = df.groupby('native-country')['salary'].value_counts(normalize=True).loc[:,('>50K')].idxmax()\n    highest_earning_country_percentage = (df.groupby('native-country')['salary'].value_counts(normalize=True).loc[:,('>50K')].max()) *100\n\n    # Identify the most popular occupation for those who earn >50K in India.\n    top_IN_occupation = df['occupation'].where(df['native-country']=='India').value_counts().idxmax()\n    \n\n    # DO NOT MODIFY BELOW THIS LINE\n    if print_data:\n        print(\"\\nNumber of each race:\\n\", race_count,'\\n') \n        print(\"Average age of men:\", average_age_men,'\\n')\n        print(f\"Percentage with Bachelors degrees: {percentage_bachelors}%\\n\")\n        print(f\"Percentage with higher education that earn >50K: {higher_education_rich}%\\n\")\n        print(f\"Percentage without higher education that earn >50K: {lower_education_rich}%\\n\")\n        print(f\"Min work time: {min_work_hours} hours/week\\n\")\n        print(f\"Percentage of rich among those who work fewest hours: {rich_percentage}%\\n\")\n        print(\"Country with highest percentage of rich:\", highest_earning_country,'\\n')\n        print(f\"Highest percentage of rich people in country: {highest_earning_country_percentage}%\\n\")\n        print(\"Top occupations in India:\", top_IN_occupation)\n\n    return {\n        'race_count': race_count,\n        'average_age_men': average_age_men,\n        'percentage_bachelors': percentage_bachelors,\n        'higher_education_rich': higher_education_rich,\n        'lower_education_rich': lower_education_rich,\n        'min_work_hours': min_work_hours,\n        'rich_percentage': rich_percentage,\n        'highest_earning_country': highest_earning_country,\n        'highest_earning_country_percentage': highest_earning_country_percentage,\n        'top_IN_occupation': top_IN_occupation\n    }\n\n\ncalculate_demographic_data()",
      "metadata": {
        "trusted": true
      },
      "outputs": [
        {
          "name": "stdout",
          "text": "\nNumber of each race:\n race\nWhite                 27816\nBlack                  3124\nAsian-Pac-Islander     1039\nAmer-Indian-Eskimo      311\nOther                   271\nName: count, dtype: int64 \n\nAverage age of men: 39.43354749885268 \n\nPercentage with Bachelors degrees: 16.44605509658794%\n\nPercentage with higher education that earn >50K: 46.535843011613935%\n\nPercentage without higher education that earn >50K: 17.3713601914639%\n\nMin work time: 1 hours/week\n\nPercentage of rich among those who work fewest hours: 10.0%\n\nCountry with highest percentage of rich: Iran \n\nHighest percentage of rich people in country: 41.86046511627907%\n\nTop occupations in India: Prof-specialty\n",
          "output_type": "stream"
        },
        {
          "execution_count": 109,
          "output_type": "execute_result",
          "data": {
            "text/plain": "{'race_count': race\n White                 27816\n Black                  3124\n Asian-Pac-Islander     1039\n Amer-Indian-Eskimo      311\n Other                   271\n Name: count, dtype: int64,\n 'average_age_men': 39.43354749885268,\n 'percentage_bachelors': 16.44605509658794,\n 'higher_education_rich': 46.535843011613935,\n 'lower_education_rich': 17.3713601914639,\n 'min_work_hours': 1,\n 'rich_percentage': 10.0,\n 'highest_earning_country': 'Iran',\n 'highest_earning_country_percentage': 41.86046511627907,\n 'top_IN_occupation': 'Prof-specialty'}"
          },
          "metadata": {}
        }
      ],
      "execution_count": 110
    },
    {
      "cell_type": "code",
      "source": "",
      "metadata": {
        "trusted": true
      },
      "outputs": [],
      "execution_count": null
    }
  ]
}